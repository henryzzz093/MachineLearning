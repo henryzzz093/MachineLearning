{
 "cells": [
  {
   "cell_type": "code",
   "execution_count": 1,
   "metadata": {},
   "outputs": [],
   "source": [
    "import pandas as pd\n",
    "import numpy as np"
   ]
  },
  {
   "cell_type": "code",
   "execution_count": 2,
   "metadata": {},
   "outputs": [],
   "source": [
    "# the goal is to predict the house price by using Linear Regression"
   ]
  },
  {
   "cell_type": "code",
   "execution_count": 3,
   "metadata": {},
   "outputs": [
    {
     "name": "stdout",
     "output_type": "stream",
     "text": [
      "<class 'pandas.core.frame.DataFrame'>\n",
      "RangeIndex: 932 entries, 0 to 931\n",
      "Data columns (total 9 columns):\n",
      " #   Column         Non-Null Count  Dtype  \n",
      "---  ------         --------------  -----  \n",
      " 0   Taxi_dist      919 non-null    float64\n",
      " 1   Market_dist    919 non-null    float64\n",
      " 2   Hospital_dist  931 non-null    float64\n",
      " 3   Carpet_area    924 non-null    float64\n",
      " 4   Builtup_area   917 non-null    float64\n",
      " 5   Parking_type   932 non-null    object \n",
      " 6   City_type      932 non-null    object \n",
      " 7   Rainfall       932 non-null    int64  \n",
      " 8   Price_house    932 non-null    int64  \n",
      "dtypes: float64(5), int64(2), object(2)\n",
      "memory usage: 65.7+ KB\n"
     ]
    }
   ],
   "source": [
    "data = pd.read_csv('House_Price.csv')\n",
    "data.info()"
   ]
  },
  {
   "cell_type": "code",
   "execution_count": 4,
   "metadata": {},
   "outputs": [
    {
     "data": {
      "text/plain": [
       "0.000        30000.0\n",
       "0.010      2177480.0\n",
       "0.100      3742300.0\n",
       "0.300      4921300.0\n",
       "0.500      5866000.0\n",
       "0.700      6913000.0\n",
       "0.900      8201100.0\n",
       "0.950      8790800.0\n",
       "0.990      9954210.0\n",
       "0.995     10198905.0\n",
       "1.000    150000000.0\n",
       "Name: Price_house, dtype: float64"
      ]
     },
     "execution_count": 4,
     "metadata": {},
     "output_type": "execute_result"
    }
   ],
   "source": [
    "# check for outliers\n",
    "data['Price_house'].quantile([0, 0.01, 0.1, 0.3, 0.5, 0.7, 0.9, 0.95, 0.99, 0.995, 1]) # different quantiles"
   ]
  },
  {
   "cell_type": "code",
   "execution_count": 5,
   "metadata": {},
   "outputs": [],
   "source": [
    "def remove_outliers(data, columns):\n",
    "    Q1 = data[columns].quantile(0.25)\n",
    "    Q3 = data[columns].quantile(0.75)\n",
    "    IQR = Q3 - Q1\n",
    "    data = data.loc[~((data[columns] < (Q1 - 1.5 * IQR)) | (data[columns] > (Q3 + 1.5 * IQR)))]\n",
    "    return data"
   ]
  },
  {
   "cell_type": "code",
   "execution_count": 6,
   "metadata": {},
   "outputs": [
    {
     "data": {
      "text/plain": [
       "<AxesSubplot:>"
      ]
     },
     "execution_count": 6,
     "metadata": {},
     "output_type": "execute_result"
    }
   ],
   "source": [
    "test = data.copy()\n",
    "test.boxplot(column = ['Price_house'])"
   ]
  },
  {
   "cell_type": "code",
   "execution_count": 7,
   "metadata": {},
   "outputs": [
    {
     "data": {
      "text/plain": [
       "<AxesSubplot:>"
      ]
     },
     "execution_count": 7,
     "metadata": {},
     "output_type": "execute_result"
    },
    {
     "data": {
      "image/png": "[encoded data removed]",
      "text/plain": [
       "<Figure size 432x288 with 1 Axes>"
      ]
     },
     "metadata": {
      "needs_background": "light"
     },
     "output_type": "display_data"
    }
   ],
   "source": [
    "test = remove_outliers(test, 'Price_house')\n",
    "test.boxplot(column = ['Price_house'])"
   ]
  },
  {
   "cell_type": "code",
   "execution_count": 8,
   "metadata": {},
   "outputs": [
    {
     "data": {
      "text/plain": [
       "['Taxi_dist',\n",
       " 'Market_dist',\n",
       " 'Hospital_dist',\n",
       " 'Carpet_area',\n",
       " 'Builtup_area',\n",
       " 'Parking_type',\n",
       " 'City_type',\n",
       " 'Rainfall',\n",
       " 'Price_house']"
      ]
     },
     "execution_count": 8,
     "metadata": {},
     "output_type": "execute_result"
    }
   ],
   "source": [
    "my_remaining_columns = data.columns.to_list()\n",
    "my_remaining_columns"
   ]
  },
  {
   "cell_type": "code",
   "execution_count": 9,
   "metadata": {},
   "outputs": [
    {
     "data": {
      "text/plain": [
       "['Taxi_dist',\n",
       " 'Market_dist',\n",
       " 'Hospital_dist',\n",
       " 'Carpet_area',\n",
       " 'Builtup_area',\n",
       " 'Rainfall']"
      ]
     },
     "execution_count": 9,
     "metadata": {},
     "output_type": "execute_result"
    }
   ],
   "source": [
    "my_remaining_columns.pop(-1) # remove the column name we already modified ---- Price_house\n",
    "my_remaining_columns.remove('Parking_type')\n",
    "my_remaining_columns.remove('City_type')\n",
    "my_remaining_columns"
   ]
  },
  {
   "cell_type": "code",
   "execution_count": 10,
   "metadata": {},
   "outputs": [
    {
     "name": "stdout",
     "output_type": "stream",
     "text": [
      "<class 'pandas.core.frame.DataFrame'>\n",
      "RangeIndex: 932 entries, 0 to 931\n",
      "Data columns (total 9 columns):\n",
      " #   Column         Non-Null Count  Dtype  \n",
      "---  ------         --------------  -----  \n",
      " 0   Taxi_dist      919 non-null    float64\n",
      " 1   Market_dist    919 non-null    float64\n",
      " 2   Hospital_dist  931 non-null    float64\n",
      " 3   Carpet_area    924 non-null    float64\n",
      " 4   Builtup_area   917 non-null    float64\n",
      " 5   Parking_type   932 non-null    object \n",
      " 6   City_type      932 non-null    object \n",
      " 7   Rainfall       932 non-null    int64  \n",
      " 8   Price_house    932 non-null    int64  \n",
      "dtypes: float64(5), int64(2), object(2)\n",
      "memory usage: 65.7+ KB\n"
     ]
    }
   ],
   "source": [
    "data.info()"
   ]
  },
  {
   "cell_type": "code",
   "execution_count": 11,
   "metadata": {},
   "outputs": [
    {
     "name": "stdout",
     "output_type": "stream",
     "text": [
      "<class 'pandas.core.frame.DataFrame'>\n",
      "Int64Index: 906 entries, 0 to 931\n",
      "Data columns (total 9 columns):\n",
      " #   Column         Non-Null Count  Dtype  \n",
      "---  ------         --------------  -----  \n",
      " 0   Taxi_dist      893 non-null    float64\n",
      " 1   Market_dist    893 non-null    float64\n",
      " 2   Hospital_dist  905 non-null    float64\n",
      " 3   Carpet_area    898 non-null    float64\n",
      " 4   Builtup_area   892 non-null    float64\n",
      " 5   Parking_type   906 non-null    object \n",
      " 6   City_type      906 non-null    object \n",
      " 7   Rainfall       906 non-null    int64  \n",
      " 8   Price_house    906 non-null    int64  \n",
      "dtypes: float64(5), int64(2), object(2)\n",
      "memory usage: 70.8+ KB\n"
     ]
    }
   ],
   "source": [
    "for val in my_remaining_columns:\n",
    "    data = remove_outliers(data, val)\n",
    "\n",
    "data.info()"
   ]
  },
  {
   "cell_type": "code",
   "execution_count": 12,
   "metadata": {},
   "outputs": [],
   "source": [
    "import seaborn as sns\n",
    "import matplotlib.pyplot as plt"
   ]
  },
  {
   "cell_type": "code",
   "execution_count": 13,
   "metadata": {},
   "outputs": [
    {
     "data": {
      "image/png": "[encoded data removed]",
      "text/plain": [
       "<Figure size 360x360 with 1 Axes>"
      ]
     },
     "metadata": {
      "needs_background": "light"
     },
     "output_type": "display_data"
    },
    {
     "data": {
      "image/png": "[encoded data removed]",
      "text/plain": [
       "<Figure size 360x360 with 1 Axes>"
      ]
     },
     "metadata": {
      "needs_background": "light"
     },
     "output_type": "display_data"
    },
    {
     "data": {
      "image/png": "[encoded data removed]",
      "text/plain": [
       "<Figure size 360x360 with 1 Axes>"
      ]
     },
     "metadata": {
      "needs_background": "light"
     },
     "output_type": "display_data"
    },
    {
     "data": {
      "image/png": "[encoded data removed]",
      "text/plain": [
       "<Figure size 360x360 with 1 Axes>"
      ]
     },
     "metadata": {
      "needs_background": "light"
     },
     "output_type": "display_data"
    },
    {
     "data": {
      "image/png": "[encoded data removed]",
      "text/plain": [
       "<Figure size 360x360 with 1 Axes>"
      ]
     },
     "metadata": {
      "needs_background": "light"
     },
     "output_type": "display_data"
    },
    {
     "data": {
      "image/png": "[encoded data removed]",
      "text/plain": [
       "<Figure size 360x360 with 1 Axes>"
      ]
     },
     "metadata": {
      "needs_background": "light"
     },
     "output_type": "display_data"
    }
   ],
   "source": [
    "# check for outliers by using boxplots\n",
    "for val in my_remaining_columns:\n",
    "    sns.catplot(y = val, data = data, kind = 'box', sym = '')\n",
    "    plt.show()"
   ]
  },
  {
   "cell_type": "code",
   "execution_count": 14,
   "metadata": {},
   "outputs": [
    {
     "name": "stdout",
     "output_type": "stream",
     "text": [
      "<class 'pandas.core.frame.DataFrame'>\n",
      "Int64Index: 906 entries, 0 to 931\n",
      "Data columns (total 9 columns):\n",
      " #   Column         Non-Null Count  Dtype  \n",
      "---  ------         --------------  -----  \n",
      " 0   Taxi_dist      893 non-null    float64\n",
      " 1   Market_dist    893 non-null    float64\n",
      " 2   Hospital_dist  905 non-null    float64\n",
      " 3   Carpet_area    898 non-null    float64\n",
      " 4   Builtup_area   892 non-null    float64\n",
      " 5   Parking_type   906 non-null    object \n",
      " 6   City_type      906 non-null    object \n",
      " 7   Rainfall       906 non-null    int64  \n",
      " 8   Price_house    906 non-null    int64  \n",
      "dtypes: float64(5), int64(2), object(2)\n",
      "memory usage: 70.8+ KB\n"
     ]
    }
   ],
   "source": [
    "# drop missing values\n",
    "data.info()"
   ]
  },
  {
   "cell_type": "code",
   "execution_count": 15,
   "metadata": {},
   "outputs": [
    {
     "data": {
      "text/plain": [
       "Taxi_dist        13\n",
       "Market_dist      13\n",
       "Hospital_dist     1\n",
       "Carpet_area       8\n",
       "Builtup_area     14\n",
       "Parking_type      0\n",
       "City_type         0\n",
       "Rainfall          0\n",
       "Price_house       0\n",
       "dtype: int64"
      ]
     },
     "execution_count": 15,
     "metadata": {},
     "output_type": "execute_result"
    }
   ],
   "source": [
    "data.isnull().sum() # since only contain small amount of missing values, we can simply drop them"
   ]
  },
  {
   "cell_type": "code",
   "execution_count": 16,
   "metadata": {},
   "outputs": [
    {
     "name": "stdout",
     "output_type": "stream",
     "text": [
      "<class 'pandas.core.frame.DataFrame'>\n",
      "Int64Index: 873 entries, 0 to 931\n",
      "Data columns (total 9 columns):\n",
      " #   Column         Non-Null Count  Dtype  \n",
      "---  ------         --------------  -----  \n",
      " 0   Taxi_dist      873 non-null    float64\n",
      " 1   Market_dist    873 non-null    float64\n",
      " 2   Hospital_dist  873 non-null    float64\n",
      " 3   Carpet_area    873 non-null    float64\n",
      " 4   Builtup_area   873 non-null    float64\n",
      " 5   Parking_type   873 non-null    object \n",
      " 6   City_type      873 non-null    object \n",
      " 7   Rainfall       873 non-null    int64  \n",
      " 8   Price_house    873 non-null    int64  \n",
      "dtypes: float64(5), int64(2), object(2)\n",
      "memory usage: 68.2+ KB\n"
     ]
    }
   ],
   "source": [
    "data = data.dropna()\n",
    "data.info()"
   ]
  },
  {
   "cell_type": "code",
   "execution_count": 17,
   "metadata": {},
   "outputs": [
    {
     "data": {
      "text/plain": [
       "Open            342\n",
       "Not Provided    220\n",
       "Covered         176\n",
       "No Parking      135\n",
       "Name: Parking_type, dtype: int64"
      ]
     },
     "execution_count": 17,
     "metadata": {},
     "output_type": "execute_result"
    }
   ],
   "source": [
    "# Now we need to use dummies_variable to deal with categorical features.\n",
    "data.Parking_type.value_counts()"
   ]
  },
  {
   "cell_type": "code",
   "execution_count": 18,
   "metadata": {},
   "outputs": [
    {
     "data": {
      "text/plain": [
       "CAT B    341\n",
       "CAT A    307\n",
       "CAT C    225\n",
       "Name: City_type, dtype: int64"
      ]
     },
     "execution_count": 18,
     "metadata": {},
     "output_type": "execute_result"
    }
   ],
   "source": [
    "data.City_type.value_counts()"
   ]
  },
  {
   "cell_type": "markdown",
   "metadata": {},
   "source": [
    "### drop_first=True is important to use, as it helps in reducing the extra column created during dummy variable creation. Hence it reduces the correlations created among dummy variables. Otherwise VIF part will results inf!!!!"
   ]
  },
  {
   "cell_type": "code",
   "execution_count": 19,
   "metadata": {},
   "outputs": [
    {
     "name": "stdout",
     "output_type": "stream",
     "text": [
      "  City_type  Parking_type\n",
      "0     CAT B          Open\n",
      "1     CAT B  Not Provided\n",
      "2     CAT A  Not Provided\n",
      "3     CAT B       Covered\n",
      "4     CAT B  Not Provided\n"
     ]
    },
    {
     "data": {
      "text/html": [
       "<div>\n",
       "<style scoped>\n",
       "    .dataframe tbody tr th:only-of-type {\n",
       "        vertical-align: middle;\n",
       "    }\n",
       "\n",
       "    .dataframe tbody tr th {\n",
       "        vertical-align: top;\n",
       "    }\n",
       "\n",
       "    .dataframe thead th {\n",
       "        text-align: right;\n",
       "    }\n",
       "</style>\n",
       "<table border=\"1\" class=\"dataframe\">\n",
       "  <thead>\n",
       "    <tr style=\"text-align: right;\">\n",
       "      <th></th>\n",
       "      <th>City_type_CAT B</th>\n",
       "      <th>City_type_CAT C</th>\n",
       "      <th>Parking_type_No Parking</th>\n",
       "      <th>Parking_type_Not Provided</th>\n",
       "      <th>Parking_type_Open</th>\n",
       "    </tr>\n",
       "  </thead>\n",
       "  <tbody>\n",
       "    <tr>\n",
       "      <th>0</th>\n",
       "      <td>1</td>\n",
       "      <td>0</td>\n",
       "      <td>0</td>\n",
       "      <td>0</td>\n",
       "      <td>1</td>\n",
       "    </tr>\n",
       "    <tr>\n",
       "      <th>1</th>\n",
       "      <td>1</td>\n",
       "      <td>0</td>\n",
       "      <td>0</td>\n",
       "      <td>1</td>\n",
       "      <td>0</td>\n",
       "    </tr>\n",
       "    <tr>\n",
       "      <th>2</th>\n",
       "      <td>0</td>\n",
       "      <td>0</td>\n",
       "      <td>0</td>\n",
       "      <td>1</td>\n",
       "      <td>0</td>\n",
       "    </tr>\n",
       "    <tr>\n",
       "      <th>3</th>\n",
       "      <td>1</td>\n",
       "      <td>0</td>\n",
       "      <td>0</td>\n",
       "      <td>0</td>\n",
       "      <td>0</td>\n",
       "    </tr>\n",
       "    <tr>\n",
       "      <th>4</th>\n",
       "      <td>1</td>\n",
       "      <td>0</td>\n",
       "      <td>0</td>\n",
       "      <td>1</td>\n",
       "      <td>0</td>\n",
       "    </tr>\n",
       "  </tbody>\n",
       "</table>\n",
       "</div>"
      ],
      "text/plain": [
       "   City_type_CAT B  City_type_CAT C  Parking_type_No Parking  \\\n",
       "0                1                0                        0   \n",
       "1                1                0                        0   \n",
       "2                0                0                        0   \n",
       "3                1                0                        0   \n",
       "4                1                0                        0   \n",
       "\n",
       "   Parking_type_Not Provided  Parking_type_Open  \n",
       "0                          0                  1  \n",
       "1                          1                  0  \n",
       "2                          1                  0  \n",
       "3                          0                  0  \n",
       "4                          1                  0  "
      ]
     },
     "execution_count": 19,
     "metadata": {},
     "output_type": "execute_result"
    }
   ],
   "source": [
    "# creating dummy variables\n",
    "cat = data.loc[:, ['City_type', 'Parking_type']]\n",
    "print(cat.head())\n",
    "dum = pd.get_dummies(cat.astype(str), drop_first = True) # why drop_first?\n",
    "dum.head()"
   ]
  },
  {
   "cell_type": "code",
   "execution_count": 20,
   "metadata": {},
   "outputs": [
    {
     "data": {
      "text/html": [
       "<div>\n",
       "<style scoped>\n",
       "    .dataframe tbody tr th:only-of-type {\n",
       "        vertical-align: middle;\n",
       "    }\n",
       "\n",
       "    .dataframe tbody tr th {\n",
       "        vertical-align: top;\n",
       "    }\n",
       "\n",
       "    .dataframe thead th {\n",
       "        text-align: right;\n",
       "    }\n",
       "</style>\n",
       "<table border=\"1\" class=\"dataframe\">\n",
       "  <thead>\n",
       "    <tr style=\"text-align: right;\">\n",
       "      <th></th>\n",
       "      <th>Taxi_dist</th>\n",
       "      <th>Market_dist</th>\n",
       "      <th>Hospital_dist</th>\n",
       "      <th>Carpet_area</th>\n",
       "      <th>Builtup_area</th>\n",
       "      <th>Rainfall</th>\n",
       "      <th>Price_house</th>\n",
       "      <th>City_type_CAT B</th>\n",
       "      <th>City_type_CAT C</th>\n",
       "      <th>Parking_type_No Parking</th>\n",
       "      <th>Parking_type_Not Provided</th>\n",
       "      <th>Parking_type_Open</th>\n",
       "    </tr>\n",
       "  </thead>\n",
       "  <tbody>\n",
       "    <tr>\n",
       "      <th>0</th>\n",
       "      <td>9796.0</td>\n",
       "      <td>5250.0</td>\n",
       "      <td>10703.0</td>\n",
       "      <td>1659.0</td>\n",
       "      <td>1961.0</td>\n",
       "      <td>530</td>\n",
       "      <td>6649000</td>\n",
       "      <td>1</td>\n",
       "      <td>0</td>\n",
       "      <td>0</td>\n",
       "      <td>0</td>\n",
       "      <td>1</td>\n",
       "    </tr>\n",
       "    <tr>\n",
       "      <th>1</th>\n",
       "      <td>8294.0</td>\n",
       "      <td>8186.0</td>\n",
       "      <td>12694.0</td>\n",
       "      <td>1461.0</td>\n",
       "      <td>1752.0</td>\n",
       "      <td>210</td>\n",
       "      <td>3982000</td>\n",
       "      <td>1</td>\n",
       "      <td>0</td>\n",
       "      <td>0</td>\n",
       "      <td>1</td>\n",
       "      <td>0</td>\n",
       "    </tr>\n",
       "    <tr>\n",
       "      <th>2</th>\n",
       "      <td>11001.0</td>\n",
       "      <td>14399.0</td>\n",
       "      <td>16991.0</td>\n",
       "      <td>1340.0</td>\n",
       "      <td>1609.0</td>\n",
       "      <td>720</td>\n",
       "      <td>5401000</td>\n",
       "      <td>0</td>\n",
       "      <td>0</td>\n",
       "      <td>0</td>\n",
       "      <td>1</td>\n",
       "      <td>0</td>\n",
       "    </tr>\n",
       "    <tr>\n",
       "      <th>3</th>\n",
       "      <td>8301.0</td>\n",
       "      <td>11188.0</td>\n",
       "      <td>12289.0</td>\n",
       "      <td>1451.0</td>\n",
       "      <td>1748.0</td>\n",
       "      <td>620</td>\n",
       "      <td>5373000</td>\n",
       "      <td>1</td>\n",
       "      <td>0</td>\n",
       "      <td>0</td>\n",
       "      <td>0</td>\n",
       "      <td>0</td>\n",
       "    </tr>\n",
       "    <tr>\n",
       "      <th>4</th>\n",
       "      <td>10510.0</td>\n",
       "      <td>12629.0</td>\n",
       "      <td>13921.0</td>\n",
       "      <td>1770.0</td>\n",
       "      <td>2111.0</td>\n",
       "      <td>450</td>\n",
       "      <td>4662000</td>\n",
       "      <td>1</td>\n",
       "      <td>0</td>\n",
       "      <td>0</td>\n",
       "      <td>1</td>\n",
       "      <td>0</td>\n",
       "    </tr>\n",
       "    <tr>\n",
       "      <th>...</th>\n",
       "      <td>...</td>\n",
       "      <td>...</td>\n",
       "      <td>...</td>\n",
       "      <td>...</td>\n",
       "      <td>...</td>\n",
       "      <td>...</td>\n",
       "      <td>...</td>\n",
       "      <td>...</td>\n",
       "      <td>...</td>\n",
       "      <td>...</td>\n",
       "      <td>...</td>\n",
       "      <td>...</td>\n",
       "    </tr>\n",
       "    <tr>\n",
       "      <th>927</th>\n",
       "      <td>12176.0</td>\n",
       "      <td>8518.0</td>\n",
       "      <td>15673.0</td>\n",
       "      <td>1582.0</td>\n",
       "      <td>1910.0</td>\n",
       "      <td>1080</td>\n",
       "      <td>6639000</td>\n",
       "      <td>0</td>\n",
       "      <td>1</td>\n",
       "      <td>0</td>\n",
       "      <td>0</td>\n",
       "      <td>0</td>\n",
       "    </tr>\n",
       "    <tr>\n",
       "      <th>928</th>\n",
       "      <td>7214.0</td>\n",
       "      <td>8717.0</td>\n",
       "      <td>10553.0</td>\n",
       "      <td>1387.0</td>\n",
       "      <td>1663.0</td>\n",
       "      <td>850</td>\n",
       "      <td>8208000</td>\n",
       "      <td>0</td>\n",
       "      <td>0</td>\n",
       "      <td>0</td>\n",
       "      <td>0</td>\n",
       "      <td>1</td>\n",
       "    </tr>\n",
       "    <tr>\n",
       "      <th>929</th>\n",
       "      <td>7423.0</td>\n",
       "      <td>11708.0</td>\n",
       "      <td>13220.0</td>\n",
       "      <td>1200.0</td>\n",
       "      <td>1436.0</td>\n",
       "      <td>1060</td>\n",
       "      <td>7644000</td>\n",
       "      <td>0</td>\n",
       "      <td>0</td>\n",
       "      <td>0</td>\n",
       "      <td>0</td>\n",
       "      <td>1</td>\n",
       "    </tr>\n",
       "    <tr>\n",
       "      <th>930</th>\n",
       "      <td>15082.0</td>\n",
       "      <td>14700.0</td>\n",
       "      <td>19617.0</td>\n",
       "      <td>1299.0</td>\n",
       "      <td>1560.0</td>\n",
       "      <td>770</td>\n",
       "      <td>9661000</td>\n",
       "      <td>1</td>\n",
       "      <td>0</td>\n",
       "      <td>0</td>\n",
       "      <td>0</td>\n",
       "      <td>1</td>\n",
       "    </tr>\n",
       "    <tr>\n",
       "      <th>931</th>\n",
       "      <td>9297.0</td>\n",
       "      <td>12537.0</td>\n",
       "      <td>14418.0</td>\n",
       "      <td>1174.0</td>\n",
       "      <td>1429.0</td>\n",
       "      <td>1110</td>\n",
       "      <td>5434000</td>\n",
       "      <td>0</td>\n",
       "      <td>1</td>\n",
       "      <td>0</td>\n",
       "      <td>0</td>\n",
       "      <td>0</td>\n",
       "    </tr>\n",
       "  </tbody>\n",
       "</table>\n",
       "<p>873 rows × 12 columns</p>\n",
       "</div>"
      ],
      "text/plain": [
       "     Taxi_dist  Market_dist  Hospital_dist  Carpet_area  Builtup_area  \\\n",
       "0       9796.0       5250.0        10703.0       1659.0        1961.0   \n",
       "1       8294.0       8186.0        12694.0       1461.0        1752.0   \n",
       "2      11001.0      14399.0        16991.0       1340.0        1609.0   \n",
       "3       8301.0      11188.0        12289.0       1451.0        1748.0   \n",
       "4      10510.0      12629.0        13921.0       1770.0        2111.0   \n",
       "..         ...          ...            ...          ...           ...   \n",
       "927    12176.0       8518.0        15673.0       1582.0        1910.0   \n",
       "928     7214.0       8717.0        10553.0       1387.0        1663.0   \n",
       "929     7423.0      11708.0        13220.0       1200.0        1436.0   \n",
       "930    15082.0      14700.0        19617.0       1299.0        1560.0   \n",
       "931     9297.0      12537.0        14418.0       1174.0        1429.0   \n",
       "\n",
       "     Rainfall  Price_house  City_type_CAT B  City_type_CAT C  \\\n",
       "0         530      6649000                1                0   \n",
       "1         210      3982000                1                0   \n",
       "2         720      5401000                0                0   \n",
       "3         620      5373000                1                0   \n",
       "4         450      4662000                1                0   \n",
       "..        ...          ...              ...              ...   \n",
       "927      1080      6639000                0                1   \n",
       "928       850      8208000                0                0   \n",
       "929      1060      7644000                0                0   \n",
       "930       770      9661000                1                0   \n",
       "931      1110      5434000                0                1   \n",
       "\n",
       "     Parking_type_No Parking  Parking_type_Not Provided  Parking_type_Open  \n",
       "0                          0                          0                  1  \n",
       "1                          0                          1                  0  \n",
       "2                          0                          1                  0  \n",
       "3                          0                          0                  0  \n",
       "4                          0                          1                  0  \n",
       "..                       ...                        ...                ...  \n",
       "927                        0                          0                  0  \n",
       "928                        0                          0                  1  \n",
       "929                        0                          0                  1  \n",
       "930                        0                          0                  1  \n",
       "931                        0                          0                  0  \n",
       "\n",
       "[873 rows x 12 columns]"
      ]
     },
     "execution_count": 20,
     "metadata": {},
     "output_type": "execute_result"
    }
   ],
   "source": [
    "newdata = pd.concat([data, dum], axis = 1) \n",
    "newdata = newdata.drop(columns = ['Parking_type', 'City_type'])\n",
    "newdata"
   ]
  },
  {
   "cell_type": "code",
   "execution_count": 21,
   "metadata": {},
   "outputs": [
    {
     "name": "stderr",
     "output_type": "stream",
     "text": [
      "/opt/anaconda3/lib/python3.7/site-packages/statsmodels/tools/_testing.py:19: FutureWarning: pandas.util.testing is deprecated. Use the functions in the public API at pandas.testing instead.\n",
      "  import pandas.util.testing as tm\n"
     ]
    },
    {
     "name": "stdout",
     "output_type": "stream",
     "text": [
      "X_train shape (698, 11)\n",
      "y_train shape (698,)\n",
      "X_test shape (175, 11)\n",
      "y_test shape (175,)\n"
     ]
    }
   ],
   "source": [
    "# start linear regression modeling\n",
    "import statsmodels.api as sm\n",
    "\n",
    "from sklearn.model_selection import train_test_split\n",
    "\n",
    "X = newdata.loc[:, newdata.columns != 'Price_house']\n",
    "y = newdata['Price_house']\n",
    "\n",
    "X_train, X_test, y_train, y_test = train_test_split(X, y, test_size = 0.2, random_state = 16)\n",
    "print('X_train shape {}'.format(X_train.shape))\n",
    "print('y_train shape {}'.format(y_train.shape))\n",
    "print('X_test shape {}'.format(X_test.shape))\n",
    "print('y_test shape {}'.format(y_test.shape))"
   ]
  },
  {
   "cell_type": "markdown",
   "metadata": {},
   "source": [
    "### Developing Model"
   ]
  },
  {
   "cell_type": "code",
   "execution_count": 25,
   "metadata": {},
   "outputs": [
    {
     "data": {
      "text/html": [
       "<table class=\"simpletable\">\n",
       "<caption>OLS Regression Results</caption>\n",
       "<tr>\n",
       "  <th>Dep. Variable:</th>       <td>Price_house</td>   <th>  R-squared:         </th> <td>   0.507</td> \n",
       "</tr>\n",
       "<tr>\n",
       "  <th>Model:</th>                   <td>OLS</td>       <th>  Adj. R-squared:    </th> <td>   0.499</td> \n",
       "</tr>\n",
       "<tr>\n",
       "  <th>Method:</th>             <td>Least Squares</td>  <th>  F-statistic:       </th> <td>   64.15</td> \n",
       "</tr>\n",
       "<tr>\n",
       "  <th>Date:</th>             <td>Mon, 25 Oct 2021</td> <th>  Prob (F-statistic):</th> <td>1.03e-97</td> \n",
       "</tr>\n",
       "<tr>\n",
       "  <th>Time:</th>                 <td>21:24:48</td>     <th>  Log-Likelihood:    </th> <td> -10758.</td> \n",
       "</tr>\n",
       "<tr>\n",
       "  <th>No. Observations:</th>      <td>   698</td>      <th>  AIC:               </th> <td>2.154e+04</td>\n",
       "</tr>\n",
       "<tr>\n",
       "  <th>Df Residuals:</th>          <td>   686</td>      <th>  BIC:               </th> <td>2.159e+04</td>\n",
       "</tr>\n",
       "<tr>\n",
       "  <th>Df Model:</th>              <td>    11</td>      <th>                     </th>     <td> </td>    \n",
       "</tr>\n",
       "<tr>\n",
       "  <th>Covariance Type:</th>      <td>nonrobust</td>    <th>                     </th>     <td> </td>    \n",
       "</tr>\n",
       "</table>\n",
       "<table class=\"simpletable\">\n",
       "<tr>\n",
       "              <td></td>                 <th>coef</th>     <th>std err</th>      <th>t</th>      <th>P>|t|</th>  <th>[0.025</th>    <th>0.975]</th>  \n",
       "</tr>\n",
       "<tr>\n",
       "  <th>const</th>                     <td> 4.987e+06</td> <td> 4.28e+05</td> <td>   11.641</td> <td> 0.000</td> <td> 4.15e+06</td> <td> 5.83e+06</td>\n",
       "</tr>\n",
       "<tr>\n",
       "  <th>Taxi_dist</th>                 <td>   32.3918</td> <td>   30.640</td> <td>    1.057</td> <td> 0.291</td> <td>  -27.767</td> <td>   92.551</td>\n",
       "</tr>\n",
       "<tr>\n",
       "  <th>Market_dist</th>               <td>    7.2575</td> <td>   23.293</td> <td>    0.312</td> <td> 0.755</td> <td>  -38.476</td> <td>   52.991</td>\n",
       "</tr>\n",
       "<tr>\n",
       "  <th>Hospital_dist</th>             <td>   72.7405</td> <td>   33.888</td> <td>    2.146</td> <td> 0.032</td> <td>    6.203</td> <td>  139.278</td>\n",
       "</tr>\n",
       "<tr>\n",
       "  <th>Carpet_area</th>               <td> 1540.9179</td> <td> 3883.473</td> <td>    0.397</td> <td> 0.692</td> <td>-6084.003</td> <td> 9165.838</td>\n",
       "</tr>\n",
       "<tr>\n",
       "  <th>Builtup_area</th>              <td> -560.6743</td> <td> 3242.816</td> <td>   -0.173</td> <td> 0.863</td> <td>-6927.710</td> <td> 5806.361</td>\n",
       "</tr>\n",
       "<tr>\n",
       "  <th>Rainfall</th>                  <td>   81.6049</td> <td>  177.741</td> <td>    0.459</td> <td> 0.646</td> <td> -267.376</td> <td>  430.586</td>\n",
       "</tr>\n",
       "<tr>\n",
       "  <th>City_type_CAT B</th>           <td>-1.806e+06</td> <td> 1.07e+05</td> <td>  -16.837</td> <td> 0.000</td> <td>-2.02e+06</td> <td> -1.6e+06</td>\n",
       "</tr>\n",
       "<tr>\n",
       "  <th>City_type_CAT C</th>           <td>-2.872e+06</td> <td> 1.19e+05</td> <td>  -24.137</td> <td> 0.000</td> <td>-3.11e+06</td> <td>-2.64e+06</td>\n",
       "</tr>\n",
       "<tr>\n",
       "  <th>Parking_type_No Parking</th>   <td>-6.104e+05</td> <td> 1.52e+05</td> <td>   -4.011</td> <td> 0.000</td> <td>-9.09e+05</td> <td>-3.12e+05</td>\n",
       "</tr>\n",
       "<tr>\n",
       "  <th>Parking_type_Not Provided</th> <td>-3.523e+05</td> <td> 1.37e+05</td> <td>   -2.572</td> <td> 0.010</td> <td>-6.21e+05</td> <td>-8.34e+04</td>\n",
       "</tr>\n",
       "<tr>\n",
       "  <th>Parking_type_Open</th>         <td>-3.643e+05</td> <td> 1.26e+05</td> <td>   -2.891</td> <td> 0.004</td> <td>-6.12e+05</td> <td>-1.17e+05</td>\n",
       "</tr>\n",
       "</table>\n",
       "<table class=\"simpletable\">\n",
       "<tr>\n",
       "  <th>Omnibus:</th>       <td> 3.269</td> <th>  Durbin-Watson:     </th> <td>   1.895</td>\n",
       "</tr>\n",
       "<tr>\n",
       "  <th>Prob(Omnibus):</th> <td> 0.195</td> <th>  Jarque-Bera (JB):  </th> <td>   3.103</td>\n",
       "</tr>\n",
       "<tr>\n",
       "  <th>Skew:</th>          <td> 0.135</td> <th>  Prob(JB):          </th> <td>   0.212</td>\n",
       "</tr>\n",
       "<tr>\n",
       "  <th>Kurtosis:</th>      <td> 3.185</td> <th>  Cond. No.          </th> <td>1.84e+05</td>\n",
       "</tr>\n",
       "</table><br/><br/>Warnings:<br/>[1] Standard Errors assume that the covariance matrix of the errors is correctly specified.<br/>[2] The condition number is large, 1.84e+05. This might indicate that there are<br/>strong multicollinearity or other numerical problems."
      ],
      "text/plain": [
       "<class 'statsmodels.iolib.summary.Summary'>\n",
       "\"\"\"\n",
       "                            OLS Regression Results                            \n",
       "==============================================================================\n",
       "Dep. Variable:            Price_house   R-squared:                       0.507\n",
       "Model:                            OLS   Adj. R-squared:                  0.499\n",
       "Method:                 Least Squares   F-statistic:                     64.15\n",
       "Date:                Mon, 25 Oct 2021   Prob (F-statistic):           1.03e-97\n",
       "Time:                        21:24:48   Log-Likelihood:                -10758.\n",
       "No. Observations:                 698   AIC:                         2.154e+04\n",
       "Df Residuals:                     686   BIC:                         2.159e+04\n",
       "Df Model:                          11                                         \n",
       "Covariance Type:            nonrobust                                         \n",
       "=============================================================================================\n",
       "                                coef    std err          t      P>|t|      [0.025      0.975]\n",
       "---------------------------------------------------------------------------------------------\n",
       "const                      4.987e+06   4.28e+05     11.641      0.000    4.15e+06    5.83e+06\n",
       "Taxi_dist                    32.3918     30.640      1.057      0.291     -27.767      92.551\n",
       "Market_dist                   7.2575     23.293      0.312      0.755     -38.476      52.991\n",
       "Hospital_dist                72.7405     33.888      2.146      0.032       6.203     139.278\n",
       "Carpet_area                1540.9179   3883.473      0.397      0.692   -6084.003    9165.838\n",
       "Builtup_area               -560.6743   3242.816     -0.173      0.863   -6927.710    5806.361\n",
       "Rainfall                     81.6049    177.741      0.459      0.646    -267.376     430.586\n",
       "City_type_CAT B           -1.806e+06   1.07e+05    -16.837      0.000   -2.02e+06    -1.6e+06\n",
       "City_type_CAT C           -2.872e+06   1.19e+05    -24.137      0.000   -3.11e+06   -2.64e+06\n",
       "Parking_type_No Parking   -6.104e+05   1.52e+05     -4.011      0.000   -9.09e+05   -3.12e+05\n",
       "Parking_type_Not Provided -3.523e+05   1.37e+05     -2.572      0.010   -6.21e+05   -8.34e+04\n",
       "Parking_type_Open         -3.643e+05   1.26e+05     -2.891      0.004   -6.12e+05   -1.17e+05\n",
       "==============================================================================\n",
       "Omnibus:                        3.269   Durbin-Watson:                   1.895\n",
       "Prob(Omnibus):                  0.195   Jarque-Bera (JB):                3.103\n",
       "Skew:                           0.135   Prob(JB):                        0.212\n",
       "Kurtosis:                       3.185   Cond. No.                     1.84e+05\n",
       "==============================================================================\n",
       "\n",
       "Warnings:\n",
       "[1] Standard Errors assume that the covariance matrix of the errors is correctly specified.\n",
       "[2] The condition number is large, 1.84e+05. This might indicate that there are\n",
       "strong multicollinearity or other numerical problems.\n",
       "\"\"\""
      ]
     },
     "execution_count": 25,
     "metadata": {},
     "output_type": "execute_result"
    }
   ],
   "source": [
    "X_train_new = sm.add_constant(X_train)\n",
    "LR = sm.OLS(y_train, X_train_new).fit()\n",
    "LR.summary()"
   ]
  },
  {
   "cell_type": "code",
   "execution_count": 26,
   "metadata": {},
   "outputs": [
    {
     "name": "stdout",
     "output_type": "stream",
     "text": [
      "since Prob F-statistic is equal to 1.03e-97, it is less than 0.05\n"
     ]
    }
   ],
   "source": [
    "# check ANOVA (Prob F-statistic < 0.05)\n",
    "print('since Prob F-statistic is equal to 1.03e-97, it is less than 0.05')"
   ]
  },
  {
   "cell_type": "code",
   "execution_count": 27,
   "metadata": {},
   "outputs": [
    {
     "data": {
      "text/html": [
       "<table class=\"simpletable\">\n",
       "<caption>OLS Regression Results</caption>\n",
       "<tr>\n",
       "  <th>Dep. Variable:</th>       <td>Price_house</td>   <th>  R-squared:         </th> <td>   0.507</td> \n",
       "</tr>\n",
       "<tr>\n",
       "  <th>Model:</th>                   <td>OLS</td>       <th>  Adj. R-squared:    </th> <td>   0.500</td> \n",
       "</tr>\n",
       "<tr>\n",
       "  <th>Method:</th>             <td>Least Squares</td>  <th>  F-statistic:       </th> <td>   70.66</td> \n",
       "</tr>\n",
       "<tr>\n",
       "  <th>Date:</th>             <td>Mon, 25 Oct 2021</td> <th>  Prob (F-statistic):</th> <td>1.21e-98</td> \n",
       "</tr>\n",
       "<tr>\n",
       "  <th>Time:</th>                 <td>21:24:52</td>     <th>  Log-Likelihood:    </th> <td> -10758.</td> \n",
       "</tr>\n",
       "<tr>\n",
       "  <th>No. Observations:</th>      <td>   698</td>      <th>  AIC:               </th> <td>2.154e+04</td>\n",
       "</tr>\n",
       "<tr>\n",
       "  <th>Df Residuals:</th>          <td>   687</td>      <th>  BIC:               </th> <td>2.159e+04</td>\n",
       "</tr>\n",
       "<tr>\n",
       "  <th>Df Model:</th>              <td>    10</td>      <th>                     </th>     <td> </td>    \n",
       "</tr>\n",
       "<tr>\n",
       "  <th>Covariance Type:</th>      <td>nonrobust</td>    <th>                     </th>     <td> </td>    \n",
       "</tr>\n",
       "</table>\n",
       "<table class=\"simpletable\">\n",
       "<tr>\n",
       "              <td></td>                 <th>coef</th>     <th>std err</th>      <th>t</th>      <th>P>|t|</th>  <th>[0.025</th>    <th>0.975]</th>  \n",
       "</tr>\n",
       "<tr>\n",
       "  <th>const</th>                     <td> 4.985e+06</td> <td> 4.28e+05</td> <td>   11.649</td> <td> 0.000</td> <td> 4.14e+06</td> <td> 5.82e+06</td>\n",
       "</tr>\n",
       "<tr>\n",
       "  <th>Taxi_dist</th>                 <td>   32.5740</td> <td>   30.600</td> <td>    1.065</td> <td> 0.287</td> <td>  -27.507</td> <td>   92.655</td>\n",
       "</tr>\n",
       "<tr>\n",
       "  <th>Market_dist</th>               <td>    7.1972</td> <td>   23.274</td> <td>    0.309</td> <td> 0.757</td> <td>  -38.499</td> <td>   52.893</td>\n",
       "</tr>\n",
       "<tr>\n",
       "  <th>Hospital_dist</th>             <td>   72.6197</td> <td>   33.857</td> <td>    2.145</td> <td> 0.032</td> <td>    6.144</td> <td>  139.096</td>\n",
       "</tr>\n",
       "<tr>\n",
       "  <th>Carpet_area</th>               <td>  870.2788</td> <td>  189.762</td> <td>    4.586</td> <td> 0.000</td> <td>  497.697</td> <td> 1242.861</td>\n",
       "</tr>\n",
       "<tr>\n",
       "  <th>Rainfall</th>                  <td>   81.2114</td> <td>  177.600</td> <td>    0.457</td> <td> 0.648</td> <td> -267.494</td> <td>  429.916</td>\n",
       "</tr>\n",
       "<tr>\n",
       "  <th>City_type_CAT B</th>           <td>-1.806e+06</td> <td> 1.07e+05</td> <td>  -16.853</td> <td> 0.000</td> <td>-2.02e+06</td> <td> -1.6e+06</td>\n",
       "</tr>\n",
       "<tr>\n",
       "  <th>City_type_CAT C</th>           <td>-2.872e+06</td> <td> 1.19e+05</td> <td>  -24.159</td> <td> 0.000</td> <td>-3.11e+06</td> <td>-2.64e+06</td>\n",
       "</tr>\n",
       "<tr>\n",
       "  <th>Parking_type_No Parking</th>   <td>  -6.1e+05</td> <td> 1.52e+05</td> <td>   -4.012</td> <td> 0.000</td> <td>-9.09e+05</td> <td>-3.12e+05</td>\n",
       "</tr>\n",
       "<tr>\n",
       "  <th>Parking_type_Not Provided</th> <td>-3.514e+05</td> <td> 1.37e+05</td> <td>   -2.569</td> <td> 0.010</td> <td> -6.2e+05</td> <td>-8.28e+04</td>\n",
       "</tr>\n",
       "<tr>\n",
       "  <th>Parking_type_Open</th>         <td>-3.644e+05</td> <td> 1.26e+05</td> <td>   -2.894</td> <td> 0.004</td> <td>-6.12e+05</td> <td>-1.17e+05</td>\n",
       "</tr>\n",
       "</table>\n",
       "<table class=\"simpletable\">\n",
       "<tr>\n",
       "  <th>Omnibus:</th>       <td> 3.228</td> <th>  Durbin-Watson:     </th> <td>   1.896</td>\n",
       "</tr>\n",
       "<tr>\n",
       "  <th>Prob(Omnibus):</th> <td> 0.199</td> <th>  Jarque-Bera (JB):  </th> <td>   3.058</td>\n",
       "</tr>\n",
       "<tr>\n",
       "  <th>Skew:</th>          <td> 0.135</td> <th>  Prob(JB):          </th> <td>   0.217</td>\n",
       "</tr>\n",
       "<tr>\n",
       "  <th>Kurtosis:</th>      <td> 3.181</td> <th>  Cond. No.          </th> <td>1.84e+05</td>\n",
       "</tr>\n",
       "</table><br/><br/>Warnings:<br/>[1] Standard Errors assume that the covariance matrix of the errors is correctly specified.<br/>[2] The condition number is large, 1.84e+05. This might indicate that there are<br/>strong multicollinearity or other numerical problems."
      ],
      "text/plain": [
       "<class 'statsmodels.iolib.summary.Summary'>\n",
       "\"\"\"\n",
       "                            OLS Regression Results                            \n",
       "==============================================================================\n",
       "Dep. Variable:            Price_house   R-squared:                       0.507\n",
       "Model:                            OLS   Adj. R-squared:                  0.500\n",
       "Method:                 Least Squares   F-statistic:                     70.66\n",
       "Date:                Mon, 25 Oct 2021   Prob (F-statistic):           1.21e-98\n",
       "Time:                        21:24:52   Log-Likelihood:                -10758.\n",
       "No. Observations:                 698   AIC:                         2.154e+04\n",
       "Df Residuals:                     687   BIC:                         2.159e+04\n",
       "Df Model:                          10                                         \n",
       "Covariance Type:            nonrobust                                         \n",
       "=============================================================================================\n",
       "                                coef    std err          t      P>|t|      [0.025      0.975]\n",
       "---------------------------------------------------------------------------------------------\n",
       "const                      4.985e+06   4.28e+05     11.649      0.000    4.14e+06    5.82e+06\n",
       "Taxi_dist                    32.5740     30.600      1.065      0.287     -27.507      92.655\n",
       "Market_dist                   7.1972     23.274      0.309      0.757     -38.499      52.893\n",
       "Hospital_dist                72.6197     33.857      2.145      0.032       6.144     139.096\n",
       "Carpet_area                 870.2788    189.762      4.586      0.000     497.697    1242.861\n",
       "Rainfall                     81.2114    177.600      0.457      0.648    -267.494     429.916\n",
       "City_type_CAT B           -1.806e+06   1.07e+05    -16.853      0.000   -2.02e+06    -1.6e+06\n",
       "City_type_CAT C           -2.872e+06   1.19e+05    -24.159      0.000   -3.11e+06   -2.64e+06\n",
       "Parking_type_No Parking     -6.1e+05   1.52e+05     -4.012      0.000   -9.09e+05   -3.12e+05\n",
       "Parking_type_Not Provided -3.514e+05   1.37e+05     -2.569      0.010    -6.2e+05   -8.28e+04\n",
       "Parking_type_Open         -3.644e+05   1.26e+05     -2.894      0.004   -6.12e+05   -1.17e+05\n",
       "==============================================================================\n",
       "Omnibus:                        3.228   Durbin-Watson:                   1.896\n",
       "Prob(Omnibus):                  0.199   Jarque-Bera (JB):                3.058\n",
       "Skew:                           0.135   Prob(JB):                        0.217\n",
       "Kurtosis:                       3.181   Cond. No.                     1.84e+05\n",
       "==============================================================================\n",
       "\n",
       "Warnings:\n",
       "[1] Standard Errors assume that the covariance matrix of the errors is correctly specified.\n",
       "[2] The condition number is large, 1.84e+05. This might indicate that there are\n",
       "strong multicollinearity or other numerical problems.\n",
       "\"\"\""
      ]
     },
     "execution_count": 27,
     "metadata": {},
     "output_type": "execute_result"
    }
   ],
   "source": [
    "# check independent p-value (P>|t|) (p < 0.05):\n",
    "\n",
    "# depend on the t value, we delete the feature with lowest |t| values\n",
    "\n",
    "# here is the Builtup_area |-0.173| = 0.173\n",
    "\n",
    "X_train_new = X_train_new.drop(columns = 'Builtup_area')\n",
    "LR = sm.OLS(y_train, X_train_new).fit()\n",
    "LR.summary()"
   ]
  },
  {
   "cell_type": "code",
   "execution_count": 28,
   "metadata": {},
   "outputs": [
    {
     "data": {
      "text/html": [
       "<table class=\"simpletable\">\n",
       "<caption>OLS Regression Results</caption>\n",
       "<tr>\n",
       "  <th>Dep. Variable:</th>       <td>Price_house</td>   <th>  R-squared:         </th> <td>   0.507</td> \n",
       "</tr>\n",
       "<tr>\n",
       "  <th>Model:</th>                   <td>OLS</td>       <th>  Adj. R-squared:    </th> <td>   0.501</td> \n",
       "</tr>\n",
       "<tr>\n",
       "  <th>Method:</th>             <td>Least Squares</td>  <th>  F-statistic:       </th> <td>   78.61</td> \n",
       "</tr>\n",
       "<tr>\n",
       "  <th>Date:</th>             <td>Mon, 25 Oct 2021</td> <th>  Prob (F-statistic):</th> <td>1.39e-99</td> \n",
       "</tr>\n",
       "<tr>\n",
       "  <th>Time:</th>                 <td>21:25:01</td>     <th>  Log-Likelihood:    </th> <td> -10758.</td> \n",
       "</tr>\n",
       "<tr>\n",
       "  <th>No. Observations:</th>      <td>   698</td>      <th>  AIC:               </th> <td>2.154e+04</td>\n",
       "</tr>\n",
       "<tr>\n",
       "  <th>Df Residuals:</th>          <td>   688</td>      <th>  BIC:               </th> <td>2.158e+04</td>\n",
       "</tr>\n",
       "<tr>\n",
       "  <th>Df Model:</th>              <td>     9</td>      <th>                     </th>     <td> </td>    \n",
       "</tr>\n",
       "<tr>\n",
       "  <th>Covariance Type:</th>      <td>nonrobust</td>    <th>                     </th>     <td> </td>    \n",
       "</tr>\n",
       "</table>\n",
       "<table class=\"simpletable\">\n",
       "<tr>\n",
       "              <td></td>                 <th>coef</th>     <th>std err</th>      <th>t</th>      <th>P>|t|</th>  <th>[0.025</th>    <th>0.975]</th>  \n",
       "</tr>\n",
       "<tr>\n",
       "  <th>const</th>                     <td>  5.01e+06</td> <td> 4.19e+05</td> <td>   11.945</td> <td> 0.000</td> <td> 4.19e+06</td> <td> 5.83e+06</td>\n",
       "</tr>\n",
       "<tr>\n",
       "  <th>Taxi_dist</th>                 <td>   32.0701</td> <td>   30.536</td> <td>    1.050</td> <td> 0.294</td> <td>  -27.886</td> <td>   92.026</td>\n",
       "</tr>\n",
       "<tr>\n",
       "  <th>Hospital_dist</th>             <td>   77.2569</td> <td>   30.335</td> <td>    2.547</td> <td> 0.011</td> <td>   17.696</td> <td>  136.818</td>\n",
       "</tr>\n",
       "<tr>\n",
       "  <th>Carpet_area</th>               <td>  868.4773</td> <td>  189.547</td> <td>    4.582</td> <td> 0.000</td> <td>  496.317</td> <td> 1240.638</td>\n",
       "</tr>\n",
       "<tr>\n",
       "  <th>Rainfall</th>                  <td>   83.3749</td> <td>  177.346</td> <td>    0.470</td> <td> 0.638</td> <td> -264.829</td> <td>  431.579</td>\n",
       "</tr>\n",
       "<tr>\n",
       "  <th>City_type_CAT B</th>           <td> -1.81e+06</td> <td> 1.07e+05</td> <td>  -16.973</td> <td> 0.000</td> <td>-2.02e+06</td> <td> -1.6e+06</td>\n",
       "</tr>\n",
       "<tr>\n",
       "  <th>City_type_CAT C</th>           <td>-2.873e+06</td> <td> 1.19e+05</td> <td>  -24.187</td> <td> 0.000</td> <td>-3.11e+06</td> <td>-2.64e+06</td>\n",
       "</tr>\n",
       "<tr>\n",
       "  <th>Parking_type_No Parking</th>   <td>-6.116e+05</td> <td> 1.52e+05</td> <td>   -4.028</td> <td> 0.000</td> <td> -9.1e+05</td> <td>-3.13e+05</td>\n",
       "</tr>\n",
       "<tr>\n",
       "  <th>Parking_type_Not Provided</th> <td>-3.517e+05</td> <td> 1.37e+05</td> <td>   -2.573</td> <td> 0.010</td> <td> -6.2e+05</td> <td>-8.33e+04</td>\n",
       "</tr>\n",
       "<tr>\n",
       "  <th>Parking_type_Open</th>         <td>-3.651e+05</td> <td> 1.26e+05</td> <td>   -2.901</td> <td> 0.004</td> <td>-6.12e+05</td> <td>-1.18e+05</td>\n",
       "</tr>\n",
       "</table>\n",
       "<table class=\"simpletable\">\n",
       "<tr>\n",
       "  <th>Omnibus:</th>       <td> 3.226</td> <th>  Durbin-Watson:     </th> <td>   1.897</td>\n",
       "</tr>\n",
       "<tr>\n",
       "  <th>Prob(Omnibus):</th> <td> 0.199</td> <th>  Jarque-Bera (JB):  </th> <td>   3.056</td>\n",
       "</tr>\n",
       "<tr>\n",
       "  <th>Skew:</th>          <td> 0.135</td> <th>  Prob(JB):          </th> <td>   0.217</td>\n",
       "</tr>\n",
       "<tr>\n",
       "  <th>Kurtosis:</th>      <td> 3.180</td> <th>  Cond. No.          </th> <td>1.47e+05</td>\n",
       "</tr>\n",
       "</table><br/><br/>Warnings:<br/>[1] Standard Errors assume that the covariance matrix of the errors is correctly specified.<br/>[2] The condition number is large, 1.47e+05. This might indicate that there are<br/>strong multicollinearity or other numerical problems."
      ],
      "text/plain": [
       "<class 'statsmodels.iolib.summary.Summary'>\n",
       "\"\"\"\n",
       "                            OLS Regression Results                            \n",
       "==============================================================================\n",
       "Dep. Variable:            Price_house   R-squared:                       0.507\n",
       "Model:                            OLS   Adj. R-squared:                  0.501\n",
       "Method:                 Least Squares   F-statistic:                     78.61\n",
       "Date:                Mon, 25 Oct 2021   Prob (F-statistic):           1.39e-99\n",
       "Time:                        21:25:01   Log-Likelihood:                -10758.\n",
       "No. Observations:                 698   AIC:                         2.154e+04\n",
       "Df Residuals:                     688   BIC:                         2.158e+04\n",
       "Df Model:                           9                                         \n",
       "Covariance Type:            nonrobust                                         \n",
       "=============================================================================================\n",
       "                                coef    std err          t      P>|t|      [0.025      0.975]\n",
       "---------------------------------------------------------------------------------------------\n",
       "const                       5.01e+06   4.19e+05     11.945      0.000    4.19e+06    5.83e+06\n",
       "Taxi_dist                    32.0701     30.536      1.050      0.294     -27.886      92.026\n",
       "Hospital_dist                77.2569     30.335      2.547      0.011      17.696     136.818\n",
       "Carpet_area                 868.4773    189.547      4.582      0.000     496.317    1240.638\n",
       "Rainfall                     83.3749    177.346      0.470      0.638    -264.829     431.579\n",
       "City_type_CAT B            -1.81e+06   1.07e+05    -16.973      0.000   -2.02e+06    -1.6e+06\n",
       "City_type_CAT C           -2.873e+06   1.19e+05    -24.187      0.000   -3.11e+06   -2.64e+06\n",
       "Parking_type_No Parking   -6.116e+05   1.52e+05     -4.028      0.000    -9.1e+05   -3.13e+05\n",
       "Parking_type_Not Provided -3.517e+05   1.37e+05     -2.573      0.010    -6.2e+05   -8.33e+04\n",
       "Parking_type_Open         -3.651e+05   1.26e+05     -2.901      0.004   -6.12e+05   -1.18e+05\n",
       "==============================================================================\n",
       "Omnibus:                        3.226   Durbin-Watson:                   1.897\n",
       "Prob(Omnibus):                  0.199   Jarque-Bera (JB):                3.056\n",
       "Skew:                           0.135   Prob(JB):                        0.217\n",
       "Kurtosis:                       3.180   Cond. No.                     1.47e+05\n",
       "==============================================================================\n",
       "\n",
       "Warnings:\n",
       "[1] Standard Errors assume that the covariance matrix of the errors is correctly specified.\n",
       "[2] The condition number is large, 1.47e+05. This might indicate that there are\n",
       "strong multicollinearity or other numerical problems.\n",
       "\"\"\""
      ]
     },
     "execution_count": 28,
     "metadata": {},
     "output_type": "execute_result"
    }
   ],
   "source": [
    "# check independent p-value (P>|t|) (p < 0.05):\n",
    "\n",
    "\n",
    "# depend on the t value, we delete the feature with lowest |t| values\n",
    "\n",
    "# here is the Market_dist with |t| = 0.309\n",
    "\n",
    "X_train_new = X_train_new.drop(columns = 'Market_dist')\n",
    "LR = sm.OLS(y_train, X_train_new).fit()\n",
    "LR.summary()"
   ]
  },
  {
   "cell_type": "code",
   "execution_count": 29,
   "metadata": {},
   "outputs": [
    {
     "data": {
      "text/html": [
       "<table class=\"simpletable\">\n",
       "<caption>OLS Regression Results</caption>\n",
       "<tr>\n",
       "  <th>Dep. Variable:</th>       <td>Price_house</td>   <th>  R-squared:         </th> <td>   0.507</td> \n",
       "</tr>\n",
       "<tr>\n",
       "  <th>Model:</th>                   <td>OLS</td>       <th>  Adj. R-squared:    </th> <td>   0.501</td> \n",
       "</tr>\n",
       "<tr>\n",
       "  <th>Method:</th>             <td>Least Squares</td>  <th>  F-statistic:       </th> <td>   88.50</td> \n",
       "</tr>\n",
       "<tr>\n",
       "  <th>Date:</th>             <td>Mon, 25 Oct 2021</td> <th>  Prob (F-statistic):</th> <td>1.59e-100</td>\n",
       "</tr>\n",
       "<tr>\n",
       "  <th>Time:</th>                 <td>21:25:09</td>     <th>  Log-Likelihood:    </th> <td> -10758.</td> \n",
       "</tr>\n",
       "<tr>\n",
       "  <th>No. Observations:</th>      <td>   698</td>      <th>  AIC:               </th> <td>2.153e+04</td>\n",
       "</tr>\n",
       "<tr>\n",
       "  <th>Df Residuals:</th>          <td>   689</td>      <th>  BIC:               </th> <td>2.157e+04</td>\n",
       "</tr>\n",
       "<tr>\n",
       "  <th>Df Model:</th>              <td>     8</td>      <th>                     </th>     <td> </td>    \n",
       "</tr>\n",
       "<tr>\n",
       "  <th>Covariance Type:</th>      <td>nonrobust</td>    <th>                     </th>     <td> </td>    \n",
       "</tr>\n",
       "</table>\n",
       "<table class=\"simpletable\">\n",
       "<tr>\n",
       "              <td></td>                 <th>coef</th>     <th>std err</th>      <th>t</th>      <th>P>|t|</th>  <th>[0.025</th>    <th>0.975]</th>  \n",
       "</tr>\n",
       "<tr>\n",
       "  <th>const</th>                     <td>  5.07e+06</td> <td>    4e+05</td> <td>   12.685</td> <td> 0.000</td> <td> 4.28e+06</td> <td> 5.85e+06</td>\n",
       "</tr>\n",
       "<tr>\n",
       "  <th>Taxi_dist</th>                 <td>   31.0706</td> <td>   30.445</td> <td>    1.021</td> <td> 0.308</td> <td>  -28.706</td> <td>   90.847</td>\n",
       "</tr>\n",
       "<tr>\n",
       "  <th>Hospital_dist</th>             <td>   78.8326</td> <td>   30.133</td> <td>    2.616</td> <td> 0.009</td> <td>   19.670</td> <td>  137.995</td>\n",
       "</tr>\n",
       "<tr>\n",
       "  <th>Carpet_area</th>               <td>  864.5981</td> <td>  189.261</td> <td>    4.568</td> <td> 0.000</td> <td>  493.001</td> <td> 1236.195</td>\n",
       "</tr>\n",
       "<tr>\n",
       "  <th>City_type_CAT B</th>           <td> -1.81e+06</td> <td> 1.07e+05</td> <td>  -16.986</td> <td> 0.000</td> <td>-2.02e+06</td> <td> -1.6e+06</td>\n",
       "</tr>\n",
       "<tr>\n",
       "  <th>City_type_CAT C</th>           <td>-2.874e+06</td> <td> 1.19e+05</td> <td>  -24.213</td> <td> 0.000</td> <td>-3.11e+06</td> <td>-2.64e+06</td>\n",
       "</tr>\n",
       "<tr>\n",
       "  <th>Parking_type_No Parking</th>   <td>-6.158e+05</td> <td> 1.52e+05</td> <td>   -4.064</td> <td> 0.000</td> <td>-9.13e+05</td> <td>-3.18e+05</td>\n",
       "</tr>\n",
       "<tr>\n",
       "  <th>Parking_type_Not Provided</th> <td>-3.535e+05</td> <td> 1.37e+05</td> <td>   -2.589</td> <td> 0.010</td> <td>-6.22e+05</td> <td>-8.54e+04</td>\n",
       "</tr>\n",
       "<tr>\n",
       "  <th>Parking_type_Open</th>         <td>-3.638e+05</td> <td> 1.26e+05</td> <td>   -2.894</td> <td> 0.004</td> <td>-6.11e+05</td> <td>-1.17e+05</td>\n",
       "</tr>\n",
       "</table>\n",
       "<table class=\"simpletable\">\n",
       "<tr>\n",
       "  <th>Omnibus:</th>       <td> 3.284</td> <th>  Durbin-Watson:     </th> <td>   1.898</td>\n",
       "</tr>\n",
       "<tr>\n",
       "  <th>Prob(Omnibus):</th> <td> 0.194</td> <th>  Jarque-Bera (JB):  </th> <td>   3.117</td>\n",
       "</tr>\n",
       "<tr>\n",
       "  <th>Skew:</th>          <td> 0.136</td> <th>  Prob(JB):          </th> <td>   0.211</td>\n",
       "</tr>\n",
       "<tr>\n",
       "  <th>Kurtosis:</th>      <td> 3.183</td> <th>  Cond. No.          </th> <td>1.41e+05</td>\n",
       "</tr>\n",
       "</table><br/><br/>Warnings:<br/>[1] Standard Errors assume that the covariance matrix of the errors is correctly specified.<br/>[2] The condition number is large, 1.41e+05. This might indicate that there are<br/>strong multicollinearity or other numerical problems."
      ],
      "text/plain": [
       "<class 'statsmodels.iolib.summary.Summary'>\n",
       "\"\"\"\n",
       "                            OLS Regression Results                            \n",
       "==============================================================================\n",
       "Dep. Variable:            Price_house   R-squared:                       0.507\n",
       "Model:                            OLS   Adj. R-squared:                  0.501\n",
       "Method:                 Least Squares   F-statistic:                     88.50\n",
       "Date:                Mon, 25 Oct 2021   Prob (F-statistic):          1.59e-100\n",
       "Time:                        21:25:09   Log-Likelihood:                -10758.\n",
       "No. Observations:                 698   AIC:                         2.153e+04\n",
       "Df Residuals:                     689   BIC:                         2.157e+04\n",
       "Df Model:                           8                                         \n",
       "Covariance Type:            nonrobust                                         \n",
       "=============================================================================================\n",
       "                                coef    std err          t      P>|t|      [0.025      0.975]\n",
       "---------------------------------------------------------------------------------------------\n",
       "const                       5.07e+06      4e+05     12.685      0.000    4.28e+06    5.85e+06\n",
       "Taxi_dist                    31.0706     30.445      1.021      0.308     -28.706      90.847\n",
       "Hospital_dist                78.8326     30.133      2.616      0.009      19.670     137.995\n",
       "Carpet_area                 864.5981    189.261      4.568      0.000     493.001    1236.195\n",
       "City_type_CAT B            -1.81e+06   1.07e+05    -16.986      0.000   -2.02e+06    -1.6e+06\n",
       "City_type_CAT C           -2.874e+06   1.19e+05    -24.213      0.000   -3.11e+06   -2.64e+06\n",
       "Parking_type_No Parking   -6.158e+05   1.52e+05     -4.064      0.000   -9.13e+05   -3.18e+05\n",
       "Parking_type_Not Provided -3.535e+05   1.37e+05     -2.589      0.010   -6.22e+05   -8.54e+04\n",
       "Parking_type_Open         -3.638e+05   1.26e+05     -2.894      0.004   -6.11e+05   -1.17e+05\n",
       "==============================================================================\n",
       "Omnibus:                        3.284   Durbin-Watson:                   1.898\n",
       "Prob(Omnibus):                  0.194   Jarque-Bera (JB):                3.117\n",
       "Skew:                           0.136   Prob(JB):                        0.211\n",
       "Kurtosis:                       3.183   Cond. No.                     1.41e+05\n",
       "==============================================================================\n",
       "\n",
       "Warnings:\n",
       "[1] Standard Errors assume that the covariance matrix of the errors is correctly specified.\n",
       "[2] The condition number is large, 1.41e+05. This might indicate that there are\n",
       "strong multicollinearity or other numerical problems.\n",
       "\"\"\""
      ]
     },
     "execution_count": 29,
     "metadata": {},
     "output_type": "execute_result"
    }
   ],
   "source": [
    "# check independent p-value (P>|t|) (p < 0.05):\n",
    "\n",
    "# depend on the t value, we delete the feature with lowest |t| values\n",
    "\n",
    "# here is the Rainfall with |t| = 0.470\n",
    "\n",
    "X_train_new = X_train_new.drop(columns = 'Rainfall')\n",
    "LR = sm.OLS(y_train, X_train_new).fit()\n",
    "LR.summary()"
   ]
  },
  {
   "cell_type": "code",
   "execution_count": 30,
   "metadata": {},
   "outputs": [
    {
     "data": {
      "text/html": [
       "<table class=\"simpletable\">\n",
       "<caption>OLS Regression Results</caption>\n",
       "<tr>\n",
       "  <th>Dep. Variable:</th>       <td>Price_house</td>   <th>  R-squared:         </th> <td>   0.506</td> \n",
       "</tr>\n",
       "<tr>\n",
       "  <th>Model:</th>                   <td>OLS</td>       <th>  Adj. R-squared:    </th> <td>   0.501</td> \n",
       "</tr>\n",
       "<tr>\n",
       "  <th>Method:</th>             <td>Least Squares</td>  <th>  F-statistic:       </th> <td>   101.0</td> \n",
       "</tr>\n",
       "<tr>\n",
       "  <th>Date:</th>             <td>Mon, 25 Oct 2021</td> <th>  Prob (F-statistic):</th> <td>2.55e-101</td>\n",
       "</tr>\n",
       "<tr>\n",
       "  <th>Time:</th>                 <td>21:25:20</td>     <th>  Log-Likelihood:    </th> <td> -10758.</td> \n",
       "</tr>\n",
       "<tr>\n",
       "  <th>No. Observations:</th>      <td>   698</td>      <th>  AIC:               </th> <td>2.153e+04</td>\n",
       "</tr>\n",
       "<tr>\n",
       "  <th>Df Residuals:</th>          <td>   690</td>      <th>  BIC:               </th> <td>2.157e+04</td>\n",
       "</tr>\n",
       "<tr>\n",
       "  <th>Df Model:</th>              <td>     7</td>      <th>                     </th>     <td> </td>    \n",
       "</tr>\n",
       "<tr>\n",
       "  <th>Covariance Type:</th>      <td>nonrobust</td>    <th>                     </th>     <td> </td>    \n",
       "</tr>\n",
       "</table>\n",
       "<table class=\"simpletable\">\n",
       "<tr>\n",
       "              <td></td>                 <th>coef</th>     <th>std err</th>      <th>t</th>      <th>P>|t|</th>  <th>[0.025</th>    <th>0.975]</th>  \n",
       "</tr>\n",
       "<tr>\n",
       "  <th>const</th>                     <td> 5.013e+06</td> <td> 3.96e+05</td> <td>   12.665</td> <td> 0.000</td> <td> 4.24e+06</td> <td> 5.79e+06</td>\n",
       "</tr>\n",
       "<tr>\n",
       "  <th>Hospital_dist</th>             <td>  102.6491</td> <td>   19.063</td> <td>    5.385</td> <td> 0.000</td> <td>   65.222</td> <td>  140.077</td>\n",
       "</tr>\n",
       "<tr>\n",
       "  <th>Carpet_area</th>               <td>  859.7992</td> <td>  189.208</td> <td>    4.544</td> <td> 0.000</td> <td>  488.307</td> <td> 1231.291</td>\n",
       "</tr>\n",
       "<tr>\n",
       "  <th>City_type_CAT B</th>           <td>-1.804e+06</td> <td> 1.06e+05</td> <td>  -16.955</td> <td> 0.000</td> <td>-2.01e+06</td> <td> -1.6e+06</td>\n",
       "</tr>\n",
       "<tr>\n",
       "  <th>City_type_CAT C</th>           <td>-2.868e+06</td> <td> 1.19e+05</td> <td>  -24.191</td> <td> 0.000</td> <td> -3.1e+06</td> <td>-2.64e+06</td>\n",
       "</tr>\n",
       "<tr>\n",
       "  <th>Parking_type_No Parking</th>   <td> -6.13e+05</td> <td> 1.51e+05</td> <td>   -4.046</td> <td> 0.000</td> <td> -9.1e+05</td> <td>-3.16e+05</td>\n",
       "</tr>\n",
       "<tr>\n",
       "  <th>Parking_type_Not Provided</th> <td>-3.463e+05</td> <td> 1.36e+05</td> <td>   -2.539</td> <td> 0.011</td> <td>-6.14e+05</td> <td>-7.85e+04</td>\n",
       "</tr>\n",
       "<tr>\n",
       "  <th>Parking_type_Open</th>         <td>-3.599e+05</td> <td> 1.26e+05</td> <td>   -2.864</td> <td> 0.004</td> <td>-6.07e+05</td> <td>-1.13e+05</td>\n",
       "</tr>\n",
       "</table>\n",
       "<table class=\"simpletable\">\n",
       "<tr>\n",
       "  <th>Omnibus:</th>       <td> 3.794</td> <th>  Durbin-Watson:     </th> <td>   1.897</td>\n",
       "</tr>\n",
       "<tr>\n",
       "  <th>Prob(Omnibus):</th> <td> 0.150</td> <th>  Jarque-Bera (JB):  </th> <td>   3.625</td>\n",
       "</tr>\n",
       "<tr>\n",
       "  <th>Skew:</th>          <td> 0.151</td> <th>  Prob(JB):          </th> <td>   0.163</td>\n",
       "</tr>\n",
       "<tr>\n",
       "  <th>Kurtosis:</th>      <td> 3.183</td> <th>  Cond. No.          </th> <td>1.18e+05</td>\n",
       "</tr>\n",
       "</table><br/><br/>Warnings:<br/>[1] Standard Errors assume that the covariance matrix of the errors is correctly specified.<br/>[2] The condition number is large, 1.18e+05. This might indicate that there are<br/>strong multicollinearity or other numerical problems."
      ],
      "text/plain": [
       "<class 'statsmodels.iolib.summary.Summary'>\n",
       "\"\"\"\n",
       "                            OLS Regression Results                            \n",
       "==============================================================================\n",
       "Dep. Variable:            Price_house   R-squared:                       0.506\n",
       "Model:                            OLS   Adj. R-squared:                  0.501\n",
       "Method:                 Least Squares   F-statistic:                     101.0\n",
       "Date:                Mon, 25 Oct 2021   Prob (F-statistic):          2.55e-101\n",
       "Time:                        21:25:20   Log-Likelihood:                -10758.\n",
       "No. Observations:                 698   AIC:                         2.153e+04\n",
       "Df Residuals:                     690   BIC:                         2.157e+04\n",
       "Df Model:                           7                                         \n",
       "Covariance Type:            nonrobust                                         \n",
       "=============================================================================================\n",
       "                                coef    std err          t      P>|t|      [0.025      0.975]\n",
       "---------------------------------------------------------------------------------------------\n",
       "const                      5.013e+06   3.96e+05     12.665      0.000    4.24e+06    5.79e+06\n",
       "Hospital_dist               102.6491     19.063      5.385      0.000      65.222     140.077\n",
       "Carpet_area                 859.7992    189.208      4.544      0.000     488.307    1231.291\n",
       "City_type_CAT B           -1.804e+06   1.06e+05    -16.955      0.000   -2.01e+06    -1.6e+06\n",
       "City_type_CAT C           -2.868e+06   1.19e+05    -24.191      0.000    -3.1e+06   -2.64e+06\n",
       "Parking_type_No Parking    -6.13e+05   1.51e+05     -4.046      0.000    -9.1e+05   -3.16e+05\n",
       "Parking_type_Not Provided -3.463e+05   1.36e+05     -2.539      0.011   -6.14e+05   -7.85e+04\n",
       "Parking_type_Open         -3.599e+05   1.26e+05     -2.864      0.004   -6.07e+05   -1.13e+05\n",
       "==============================================================================\n",
       "Omnibus:                        3.794   Durbin-Watson:                   1.897\n",
       "Prob(Omnibus):                  0.150   Jarque-Bera (JB):                3.625\n",
       "Skew:                           0.151   Prob(JB):                        0.163\n",
       "Kurtosis:                       3.183   Cond. No.                     1.18e+05\n",
       "==============================================================================\n",
       "\n",
       "Warnings:\n",
       "[1] Standard Errors assume that the covariance matrix of the errors is correctly specified.\n",
       "[2] The condition number is large, 1.18e+05. This might indicate that there are\n",
       "strong multicollinearity or other numerical problems.\n",
       "\"\"\""
      ]
     },
     "execution_count": 30,
     "metadata": {},
     "output_type": "execute_result"
    }
   ],
   "source": [
    "# check independent p-value (P>|t|) (p < 0.05):\n",
    "\n",
    "# depend on the t value, we delete the feature with lowest |t| values\n",
    "\n",
    "# here is the Taxi_dist = 1.021\n",
    "\n",
    "X_train_new = X_train_new.drop(columns = 'Taxi_dist')\n",
    "LR = sm.OLS(y_train, X_train_new).fit()\n",
    "LR.summary()"
   ]
  },
  {
   "cell_type": "code",
   "execution_count": 31,
   "metadata": {},
   "outputs": [],
   "source": [
    "# next step is to check the R square and Adj R square, (0-1, closer to 1 better the model)\n",
    "# R-squared:\t0.506 (satisfied)\n",
    "# Adj R-squared: 0.501 (satisfied)"
   ]
  },
  {
   "cell_type": "code",
   "execution_count": 32,
   "metadata": {},
   "outputs": [],
   "source": [
    "# Next, we need to make sure all the VIF factor are less than 2"
   ]
  },
  {
   "cell_type": "code",
   "execution_count": 33,
   "metadata": {},
   "outputs": [
    {
     "name": "stdout",
     "output_type": "stream",
     "text": [
      "                               0         coeff  VIF Factor\n",
      "const                      0.000  5.013342e+06   75.636009\n",
      "Hospital_dist              0.000  1.026491e+02    1.013496\n",
      "Carpet_area                0.000  8.597992e+02    1.010883\n",
      "City_type_CAT B            0.000 -1.803956e+06    1.304644\n",
      "City_type_CAT C            0.000 -2.868171e+06    1.289054\n",
      "Parking_type_No Parking    0.000 -6.129763e+05    1.524345\n",
      "Parking_type_Not Provided  0.011 -3.462960e+05    1.699268\n",
      "Parking_type_Open          0.004 -3.599218e+05    1.792842\n"
     ]
    }
   ],
   "source": [
    "# Method 1\n",
    "from statsmodels.stats.outliers_influence import variance_inflation_factor\n",
    "x_temp = sm.add_constant(X_train_new)\n",
    "\n",
    "var = pd.DataFrame(round(LR.pvalues, 3))\n",
    "# print(var)\n",
    "# LR.rsquared\n",
    "var['coeff'] = LR.params\n",
    "\n",
    "var[\"VIF Factor\"] = [variance_inflation_factor(x_temp.values, i) for i in range(x_temp.values.shape[1])]\n",
    "print(var)"
   ]
  },
  {
   "cell_type": "code",
   "execution_count": 34,
   "metadata": {},
   "outputs": [
    {
     "name": "stdout",
     "output_type": "stream",
     "text": [
      "                               0         coeff        vif\n",
      "const                      0.000  5.013342e+06  75.636009\n",
      "Hospital_dist              0.000  1.026491e+02   1.013496\n",
      "Carpet_area                0.000  8.597992e+02   1.010883\n",
      "City_type_CAT B            0.000 -1.803956e+06   1.304644\n",
      "City_type_CAT C            0.000 -2.868171e+06   1.289054\n",
      "Parking_type_No Parking    0.000 -6.129763e+05   1.524345\n",
      "Parking_type_Not Provided  0.011 -3.462960e+05   1.699268\n",
      "Parking_type_Open          0.004 -3.599218e+05   1.792842\n"
     ]
    }
   ],
   "source": [
    "# Method 2\n",
    "var = pd.DataFrame(round(LR.pvalues, 3))\n",
    "# print(var)\n",
    "# LR.rsquared\n",
    "var['coeff'] = LR.params\n",
    "\n",
    "from statsmodels.stats.outliers_influence import variance_inflation_factor\n",
    "variables = LR.model.exog\n",
    "\n",
    "vif = [variance_inflation_factor(variables, i) for i in range(variables.shape[1])]\n",
    "var['vif'] = vif\n",
    "print(var)"
   ]
  },
  {
   "cell_type": "code",
   "execution_count": 35,
   "metadata": {},
   "outputs": [
    {
     "data": {
      "text/plain": [
       "Index(['Taxi_dist', 'Market_dist', 'Hospital_dist', 'Carpet_area',\n",
       "       'Builtup_area', 'Rainfall', 'City_type_CAT B', 'City_type_CAT C',\n",
       "       'Parking_type_No Parking', 'Parking_type_Not Provided',\n",
       "       'Parking_type_Open'],\n",
       "      dtype='object')"
      ]
     },
     "execution_count": 35,
     "metadata": {},
     "output_type": "execute_result"
    }
   ],
   "source": [
    "X_test.columns"
   ]
  },
  {
   "cell_type": "code",
   "execution_count": 36,
   "metadata": {},
   "outputs": [
    {
     "data": {
      "text/plain": [
       "Index(['const', 'Hospital_dist', 'Carpet_area', 'City_type_CAT B',\n",
       "       'City_type_CAT C', 'Parking_type_No Parking',\n",
       "       'Parking_type_Not Provided', 'Parking_type_Open'],\n",
       "      dtype='object')"
      ]
     },
     "execution_count": 36,
     "metadata": {},
     "output_type": "execute_result"
    }
   ],
   "source": [
    "X_train_new.columns"
   ]
  },
  {
   "cell_type": "code",
   "execution_count": 37,
   "metadata": {},
   "outputs": [],
   "source": [
    "X_test = X_test.drop(['Carpet_area', 'Market_dist', 'Taxi_dist', 'Rainfall'], axis = 1)"
   ]
  },
  {
   "cell_type": "code",
   "execution_count": 38,
   "metadata": {},
   "outputs": [
    {
     "data": {
      "text/plain": [
       "727    5.781289e+06\n",
       "318    7.519610e+06\n",
       "525    7.344890e+06\n",
       "233    4.882923e+06\n",
       "242    5.314347e+06\n",
       "           ...     \n",
       "172    5.933297e+06\n",
       "1      5.672486e+06\n",
       "453    7.573006e+06\n",
       "239    7.304424e+06\n",
       "590    5.699497e+06\n",
       "Length: 175, dtype: float64"
      ]
     },
     "execution_count": 38,
     "metadata": {},
     "output_type": "execute_result"
    }
   ],
   "source": [
    "# get the predicted value\n",
    "X_test_new = sm.add_constant(X_test)\n",
    "pred = LR.predict(X_test_new)\n",
    "pred"
   ]
  },
  {
   "cell_type": "code",
   "execution_count": 41,
   "metadata": {},
   "outputs": [
    {
     "data": {
      "text/html": [
       "<div>\n",
       "<style scoped>\n",
       "    .dataframe tbody tr th:only-of-type {\n",
       "        vertical-align: middle;\n",
       "    }\n",
       "\n",
       "    .dataframe tbody tr th {\n",
       "        vertical-align: top;\n",
       "    }\n",
       "\n",
       "    .dataframe thead th {\n",
       "        text-align: right;\n",
       "    }\n",
       "</style>\n",
       "<table border=\"1\" class=\"dataframe\">\n",
       "  <thead>\n",
       "    <tr style=\"text-align: right;\">\n",
       "      <th></th>\n",
       "      <th>Price_house</th>\n",
       "    </tr>\n",
       "  </thead>\n",
       "  <tbody>\n",
       "    <tr>\n",
       "      <th>727</th>\n",
       "      <td>5384000</td>\n",
       "    </tr>\n",
       "    <tr>\n",
       "      <th>318</th>\n",
       "      <td>7653000</td>\n",
       "    </tr>\n",
       "    <tr>\n",
       "      <th>525</th>\n",
       "      <td>8372000</td>\n",
       "    </tr>\n",
       "    <tr>\n",
       "      <th>233</th>\n",
       "      <td>6383000</td>\n",
       "    </tr>\n",
       "    <tr>\n",
       "      <th>242</th>\n",
       "      <td>4916000</td>\n",
       "    </tr>\n",
       "    <tr>\n",
       "      <th>...</th>\n",
       "      <td>...</td>\n",
       "    </tr>\n",
       "    <tr>\n",
       "      <th>172</th>\n",
       "      <td>8034000</td>\n",
       "    </tr>\n",
       "    <tr>\n",
       "      <th>1</th>\n",
       "      <td>3982000</td>\n",
       "    </tr>\n",
       "    <tr>\n",
       "      <th>453</th>\n",
       "      <td>10292000</td>\n",
       "    </tr>\n",
       "    <tr>\n",
       "      <th>239</th>\n",
       "      <td>7386000</td>\n",
       "    </tr>\n",
       "    <tr>\n",
       "      <th>590</th>\n",
       "      <td>4917000</td>\n",
       "    </tr>\n",
       "  </tbody>\n",
       "</table>\n",
       "<p>175 rows × 1 columns</p>\n",
       "</div>"
      ],
      "text/plain": [
       "     Price_house\n",
       "727      5384000\n",
       "318      7653000\n",
       "525      8372000\n",
       "233      6383000\n",
       "242      4916000\n",
       "..           ...\n",
       "172      8034000\n",
       "1        3982000\n",
       "453     10292000\n",
       "239      7386000\n",
       "590      4917000\n",
       "\n",
       "[175 rows x 1 columns]"
      ]
     },
     "execution_count": 41,
     "metadata": {},
     "output_type": "execute_result"
    }
   ],
   "source": [
    "result = pd.DataFrame(y_test)\n",
    "result"
   ]
  },
  {
   "cell_type": "code",
   "execution_count": 42,
   "metadata": {},
   "outputs": [
    {
     "data": {
      "text/plain": [
       "18.841743860539946"
      ]
     },
     "execution_count": 42,
     "metadata": {},
     "output_type": "execute_result"
    }
   ],
   "source": [
    "# MAPE should be 0 - 1, closer to 0 better the model\n",
    "result['pred'] = pred\n",
    "result['MAPE'] = abs((result['Price_house'] - result['pred'])/result['Price_house'])\n",
    "result.MAPE.mean() * 100"
   ]
  },
  {
   "cell_type": "code",
   "execution_count": 43,
   "metadata": {},
   "outputs": [
    {
     "data": {
      "text/html": [
       "<div>\n",
       "<style scoped>\n",
       "    .dataframe tbody tr th:only-of-type {\n",
       "        vertical-align: middle;\n",
       "    }\n",
       "\n",
       "    .dataframe tbody tr th {\n",
       "        vertical-align: top;\n",
       "    }\n",
       "\n",
       "    .dataframe thead th {\n",
       "        text-align: right;\n",
       "    }\n",
       "</style>\n",
       "<table border=\"1\" class=\"dataframe\">\n",
       "  <thead>\n",
       "    <tr style=\"text-align: right;\">\n",
       "      <th></th>\n",
       "      <th>Price_house</th>\n",
       "      <th>pred</th>\n",
       "      <th>MAPE</th>\n",
       "    </tr>\n",
       "  </thead>\n",
       "  <tbody>\n",
       "    <tr>\n",
       "      <th>727</th>\n",
       "      <td>5384000</td>\n",
       "      <td>5.781289e+06</td>\n",
       "      <td>0.073791</td>\n",
       "    </tr>\n",
       "    <tr>\n",
       "      <th>318</th>\n",
       "      <td>7653000</td>\n",
       "      <td>7.519610e+06</td>\n",
       "      <td>0.017430</td>\n",
       "    </tr>\n",
       "    <tr>\n",
       "      <th>525</th>\n",
       "      <td>8372000</td>\n",
       "      <td>7.344890e+06</td>\n",
       "      <td>0.122684</td>\n",
       "    </tr>\n",
       "    <tr>\n",
       "      <th>233</th>\n",
       "      <td>6383000</td>\n",
       "      <td>4.882923e+06</td>\n",
       "      <td>0.235011</td>\n",
       "    </tr>\n",
       "    <tr>\n",
       "      <th>242</th>\n",
       "      <td>4916000</td>\n",
       "      <td>5.314347e+06</td>\n",
       "      <td>0.081031</td>\n",
       "    </tr>\n",
       "    <tr>\n",
       "      <th>...</th>\n",
       "      <td>...</td>\n",
       "      <td>...</td>\n",
       "      <td>...</td>\n",
       "    </tr>\n",
       "    <tr>\n",
       "      <th>172</th>\n",
       "      <td>8034000</td>\n",
       "      <td>5.933297e+06</td>\n",
       "      <td>0.261477</td>\n",
       "    </tr>\n",
       "    <tr>\n",
       "      <th>1</th>\n",
       "      <td>3982000</td>\n",
       "      <td>5.672486e+06</td>\n",
       "      <td>0.424532</td>\n",
       "    </tr>\n",
       "    <tr>\n",
       "      <th>453</th>\n",
       "      <td>10292000</td>\n",
       "      <td>7.573006e+06</td>\n",
       "      <td>0.264185</td>\n",
       "    </tr>\n",
       "    <tr>\n",
       "      <th>239</th>\n",
       "      <td>7386000</td>\n",
       "      <td>7.304424e+06</td>\n",
       "      <td>0.011045</td>\n",
       "    </tr>\n",
       "    <tr>\n",
       "      <th>590</th>\n",
       "      <td>4917000</td>\n",
       "      <td>5.699497e+06</td>\n",
       "      <td>0.159141</td>\n",
       "    </tr>\n",
       "  </tbody>\n",
       "</table>\n",
       "<p>175 rows × 3 columns</p>\n",
       "</div>"
      ],
      "text/plain": [
       "     Price_house          pred      MAPE\n",
       "727      5384000  5.781289e+06  0.073791\n",
       "318      7653000  7.519610e+06  0.017430\n",
       "525      8372000  7.344890e+06  0.122684\n",
       "233      6383000  4.882923e+06  0.235011\n",
       "242      4916000  5.314347e+06  0.081031\n",
       "..           ...           ...       ...\n",
       "172      8034000  5.933297e+06  0.261477\n",
       "1        3982000  5.672486e+06  0.424532\n",
       "453     10292000  7.573006e+06  0.264185\n",
       "239      7386000  7.304424e+06  0.011045\n",
       "590      4917000  5.699497e+06  0.159141\n",
       "\n",
       "[175 rows x 3 columns]"
      ]
     },
     "execution_count": 43,
     "metadata": {},
     "output_type": "execute_result"
    }
   ],
   "source": [
    "result"
   ]
  },
  {
   "cell_type": "code",
   "execution_count": 44,
   "metadata": {},
   "outputs": [
    {
     "data": {
      "text/plain": [
       "ShapiroResult(statistic=0.9973776340484619, pvalue=0.3336174786090851)"
      ]
     },
     "execution_count": 44,
     "metadata": {},
     "output_type": "execute_result"
    }
   ],
   "source": [
    "# check for assumption normality\n",
    "# assumption normality test\n",
    "# use Skapiro Wilk test\n",
    "# Null: The residuals are normally distributed\n",
    "# Alter: The residuals are not normally distributed\n",
    "\n",
    "# LR.resid = the error, the residual\n",
    "\n",
    "from scipy import stats\n",
    "stats.shapiro(LR.resid) # the 2nd value is p-value"
   ]
  },
  {
   "cell_type": "code",
   "execution_count": 49,
   "metadata": {},
   "outputs": [
    {
     "data": {
      "text/plain": [
       "NormaltestResult(statistic=3.793816006487786, pvalue=0.15003180061675267)"
      ]
     },
     "execution_count": 49,
     "metadata": {},
     "output_type": "execute_result"
    }
   ],
   "source": [
    "from scipy.stats import normaltest\n",
    "normaltest(LR.resid) "
   ]
  },
  {
   "cell_type": "code",
   "execution_count": 50,
   "metadata": {},
   "outputs": [],
   "source": [
    "# since the p-value is greater than 0.05, so we are good to go"
   ]
  },
  {
   "cell_type": "code",
   "execution_count": 47,
   "metadata": {},
   "outputs": [
    {
     "data": {
      "text/plain": [
       "(array([1.73176463]), array([0.18818569]))"
      ]
     },
     "execution_count": 47,
     "metadata": {},
     "output_type": "execute_result"
    }
   ],
   "source": [
    "#Checking for autocorrelation\n",
    "#Null Hypothesis: Autocorrelation is absent.\n",
    "#Alternative Hypothesis: Autocorrelation is present.\n",
    "\n",
    "from statsmodels.stats import diagnostic as diag\n",
    "diag.acorr_ljungbox(LR.resid , lags = 1)#2nd value is p value; "
   ]
  },
  {
   "cell_type": "code",
   "execution_count": 51,
   "metadata": {},
   "outputs": [],
   "source": [
    "# Since the p-value is greater than 0.05, so we are good"
   ]
  },
  {
   "cell_type": "code",
   "execution_count": 52,
   "metadata": {},
   "outputs": [
    {
     "data": {
      "text/plain": [
       "[('F statistic', 0.9865718483807978), ('p-value', 0.5496318915889135)]"
      ]
     },
     "execution_count": 52,
     "metadata": {},
     "output_type": "execute_result"
    }
   ],
   "source": [
    "#Checking heteroscedasticity\n",
    "#Null Hypothesis: Error terms are homoscedastic\n",
    "#Alternative Hypothesis: Error terms are heteroscedastic.\n",
    "\n",
    "import statsmodels.stats.api as sms\n",
    "from statsmodels.compat import lzip\n",
    "\n",
    "#Goldfeld-Quandt test\n",
    "name = ['F statistic', 'p-value']\n",
    "test = sms.het_goldfeldquandt(LR.resid, LR.model.exog)\n",
    "lzip(name, test)#2nd value is p value;  here the p-value should be greater than 0.05"
   ]
  },
  {
   "cell_type": "code",
   "execution_count": 53,
   "metadata": {},
   "outputs": [
    {
     "data": {
      "text/plain": [
       "[('Lagrange multiplier statistic', 6.02355385382145),\n",
       " ('p-value', 0.5370017945456265),\n",
       " ('f-value', 0.8580498827017632),\n",
       " ('f p-value', 0.5395174091796311)]"
      ]
     },
     "execution_count": 53,
     "metadata": {},
     "output_type": "execute_result"
    }
   ],
   "source": [
    "#Breush-Pagan test:\n",
    "name = ['Lagrange multiplier statistic', 'p-value',\n",
    "        'f-value', 'f p-value']\n",
    "test = sms.het_breuschpagan(LR.resid, LR.model.exog)\n",
    "lzip(name, test) # here the p-value should be greater than 0.05"
   ]
  },
  {
   "cell_type": "code",
   "execution_count": 54,
   "metadata": {},
   "outputs": [
    {
     "name": "stdout",
     "output_type": "stream",
     "text": [
      "     Price_house          pred      MAPE\n",
      "727      5384000  5.781289e+06  0.073791\n",
      "318      7653000  7.519610e+06  0.017430\n",
      "525      8372000  7.344890e+06  0.122684\n",
      "233      6383000  4.882923e+06  0.235011\n",
      "242      4916000  5.314347e+06  0.081031\n",
      "..           ...           ...       ...\n",
      "172      8034000  5.933297e+06  0.261477\n",
      "1        3982000  5.672486e+06  0.424532\n",
      "453     10292000  7.573006e+06  0.264185\n",
      "239      7386000  7.304424e+06  0.011045\n",
      "590      4917000  5.699497e+06  0.159141\n",
      "\n",
      "[175 rows x 3 columns]\n"
     ]
    }
   ],
   "source": [
    "# print the result vs the predicted result + MAPE \n",
    "print(result)"
   ]
  },
  {
   "cell_type": "code",
   "execution_count": null,
   "metadata": {},
   "outputs": [],
   "source": []
  }
 ],
 "metadata": {
  "kernelspec": {
   "display_name": "Python 3",
   "language": "python",
   "name": "python3"
  },
  "language_info": {
   "codemirror_mode": {
    "name": "ipython",
    "version": 3
   },
   "file_extension": ".py",
   "mimetype": "text/x-python",
   "name": "python",
   "nbconvert_exporter": "python",
   "pygments_lexer": "ipython3",
   "version": "3.7.4"
  }
 },
 "nbformat": 4,
 "nbformat_minor": 4
}
